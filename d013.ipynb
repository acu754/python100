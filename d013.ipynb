{
 "cells": [
  {
   "cell_type": "code",
   "execution_count": 13,
   "id": "8c4e2a31-4725-4d4f-9c6b-c6d55f831fca",
   "metadata": {},
   "outputs": [
    {
     "name": "stdin",
     "output_type": "stream",
     "text": [
      "输入半径R 3\n"
     ]
    },
    {
     "name": "stdout",
     "output_type": "stream",
     "text": [
      "28.2743334\n"
     ]
    },
    {
     "data": {
      "text/plain": [
       "'答案\\nclass Circle():\\n    def __init__(self,r):\\n        self.radius = r\\n    def area(self):\\n        return 3.1415926*(self.radius**2)\\n\\ncircle = Circle(5)\\nprint(circle.area())'"
      ]
     },
     "execution_count": 13,
     "metadata": {},
     "output_type": "execute_result"
    }
   ],
   "source": [
    "class Circle():\n",
    "    def __init__(self):\n",
    "        self.r = int(input('输入半径R'))\n",
    "        self.pi = 3.1415926\n",
    "    def area(self):\n",
    "        pi = self.pi\n",
    "        s = self.r**2*pi\n",
    "        print(s)\n",
    "    \n",
    "a = Circle()\n",
    "a.area()\n",
    "'''答案\n",
    "class Circle():\n",
    "    def __init__(self,r):\n",
    "        self.radius = r\n",
    "    def area(self):\n",
    "        return 3.1415926*(self.radius**2)\n",
    "\n",
    "circle = Circle(5)\n",
    "print(circle.area())'''"
   ]
  },
  {
   "cell_type": "code",
   "execution_count": 22,
   "id": "f694fba7-e537-440d-8114-fc96b1369b0a",
   "metadata": {},
   "outputs": [
    {
     "name": "stdout",
     "output_type": "stream",
     "text": [
      "12\n"
     ]
    }
   ],
   "source": [
    "class Rectangle(object):\n",
    "    def __init__(self,length,width):\n",
    "        self.len = length\n",
    "        self.wid = width\n",
    "    def area(self):\n",
    "        return self.len*self.wid\n",
    "a = Rectangle(3,4)\n",
    "print(a.area())"
   ]
  },
  {
   "cell_type": "code",
   "execution_count": 32,
   "id": "df0e08fb-934d-45c4-a215-ef5818f0461f",
   "metadata": {},
   "outputs": [
    {
     "name": "stdout",
     "output_type": "stream",
     "text": [
      "9\n"
     ]
    }
   ],
   "source": [
    "#不太明白\n",
    "'''class Shape(object):\n",
    "    def __init__(self):\n",
    "        self.len = 0\n",
    "    def area(self):\n",
    "        return self.len**2\n",
    "class Square(Shape):\n",
    "    def __init__(self,length):\n",
    "        self.len = length\n",
    "    def area(self):\n",
    "        return self.len**2\n",
    "a = Shape(3)\n",
    "b = Square(a)\n",
    "print(b.area())'''\n",
    "class Shape(object):\n",
    "    def __init__(self):\n",
    "        pass\n",
    "    def area(self):\n",
    "        return 0\n",
    "class Square(Shape):\n",
    "    def __init__(self,l):\n",
    "        Shape.__init__(self)\n",
    "        self.length = l\n",
    "    def area(self):\n",
    "        return self.length*self.length\n",
    "aSquare = Square(3)\n",
    "print(aSquare.area())\n"
   ]
  },
  {
   "cell_type": "code",
   "execution_count": 31,
   "id": "d6884e8c-6306-437e-8049-e90dbbfb6f00",
   "metadata": {},
   "outputs": [
    {
     "ename": "RuntimeError",
     "evalue": "something wrong",
     "output_type": "error",
     "traceback": [
      "\u001b[1;31m---------------------------------------------------------------------------\u001b[0m",
      "\u001b[1;31mRuntimeError\u001b[0m                              Traceback (most recent call last)",
      "\u001b[1;32m~\\AppData\\Local\\Temp/ipykernel_4116/2384397409.py\u001b[0m in \u001b[0;36m<module>\u001b[1;34m\u001b[0m\n\u001b[1;32m----> 1\u001b[1;33m \u001b[1;32mraise\u001b[0m \u001b[0mRuntimeError\u001b[0m\u001b[1;33m(\u001b[0m\u001b[1;34m'something wrong'\u001b[0m\u001b[1;33m)\u001b[0m\u001b[1;33m\u001b[0m\u001b[1;33m\u001b[0m\u001b[0m\n\u001b[0m",
      "\u001b[1;31mRuntimeError\u001b[0m: something wrong"
     ]
    }
   ],
   "source": [
    "raise RuntimeError('something wrong')"
   ]
  }
 ],
 "metadata": {
  "kernelspec": {
   "display_name": "Python 3 (ipykernel)",
   "language": "python",
   "name": "python3"
  },
  "language_info": {
   "codemirror_mode": {
    "name": "ipython",
    "version": 3
   },
   "file_extension": ".py",
   "mimetype": "text/x-python",
   "name": "python",
   "nbconvert_exporter": "python",
   "pygments_lexer": "ipython3",
   "version": "3.7.9"
  }
 },
 "nbformat": 4,
 "nbformat_minor": 5
}

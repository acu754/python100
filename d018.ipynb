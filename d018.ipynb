{
 "cells": [
  {
   "cell_type": "code",
   "execution_count": 44,
   "id": "7a4cf13a-2db9-4872-9b3a-306ceb5749fb",
   "metadata": {},
   "outputs": [
    {
     "data": {
      "text/plain": [
       "4"
      ]
     },
     "execution_count": 44,
     "metadata": {},
     "output_type": "execute_result"
    }
   ],
   "source": [
    "import random\n",
    "a = random.choice([i for i in range(11) if i%2==0])\n",
    "a"
   ]
  },
  {
   "cell_type": "code",
   "execution_count": 174,
   "id": "5eb499c1-0a99-4381-b67d-5d48d676454e",
   "metadata": {},
   "outputs": [
    {
     "name": "stdout",
     "output_type": "stream",
     "text": [
      "70\n"
     ]
    }
   ],
   "source": [
    "import random\n",
    "a = random.choice([i for i in range(10,151) if (i%5==0)&(i%7==0)])\n",
    "print(a)"
   ]
  },
  {
   "cell_type": "code",
   "execution_count": 175,
   "id": "b032126d-efc7-4b54-8a23-c79aa7c1c79c",
   "metadata": {},
   "outputs": [
    {
     "data": {
      "text/plain": [
       "[101, 144, 128, 129, 185]"
      ]
     },
     "execution_count": 175,
     "metadata": {},
     "output_type": "execute_result"
    }
   ],
   "source": [
    "import random\n",
    "random.sample([i for i in range(100,201)],5)"
   ]
  },
  {
   "cell_type": "code",
   "execution_count": 177,
   "id": "d8883a64-fa9d-4eea-99e5-88f8a9ac3dcd",
   "metadata": {},
   "outputs": [
    {
     "data": {
      "text/plain": [
       "[192, 176, 130, 144, 118]"
      ]
     },
     "execution_count": 177,
     "metadata": {},
     "output_type": "execute_result"
    }
   ],
   "source": [
    "import random\n",
    "random.sample([i for i in range(100,201) if i % 2==0],5)"
   ]
  },
  {
   "cell_type": "code",
   "execution_count": 179,
   "id": "fad6bcd4-076d-4ce1-b6dc-e2316a3e4746",
   "metadata": {},
   "outputs": [
    {
     "data": {
      "text/plain": [
       "[525, 980, 105, 70, 385]"
      ]
     },
     "execution_count": 179,
     "metadata": {},
     "output_type": "execute_result"
    }
   ],
   "source": [
    "import random\n",
    "random.sample([i for i in range(1,1001) if i %35==0],5)"
   ]
  }
 ],
 "metadata": {
  "kernelspec": {
   "display_name": "Python 3 (ipykernel)",
   "language": "python",
   "name": "python3"
  },
  "language_info": {
   "codemirror_mode": {
    "name": "ipython",
    "version": 3
   },
   "file_extension": ".py",
   "mimetype": "text/x-python",
   "name": "python",
   "nbconvert_exporter": "python",
   "pygments_lexer": "ipython3",
   "version": "3.7.9"
  }
 },
 "nbformat": 4,
 "nbformat_minor": 5
}

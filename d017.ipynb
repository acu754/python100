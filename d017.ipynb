{
 "cells": [
  {
   "cell_type": "code",
   "execution_count": 15,
   "id": "80a2dfd1-5f81-44e7-966c-13afa5faca21",
   "metadata": {},
   "outputs": [],
   "source": [
    "lst = [2,4,6,8]\n",
    "for i in lst:\n",
    "    assert int(i)%2==0 , \"{} is not an even number\".format(i)"
   ]
  },
  {
   "cell_type": "code",
   "execution_count": 16,
   "id": "4aa9fda2-3682-400f-a91d-e9029b8db474",
   "metadata": {},
   "outputs": [
    {
     "name": "stdin",
     "output_type": "stream",
     "text": [
      "输入: 35+3\n"
     ]
    },
    {
     "name": "stdout",
     "output_type": "stream",
     "text": [
      "38\n"
     ]
    }
   ],
   "source": [
    "n = input('输入:')\n",
    "print(eval(n))"
   ]
  },
  {
   "cell_type": "code",
   "execution_count": 18,
   "id": "b15a53e6-553f-4458-b497-02b4568e0ec5",
   "metadata": {},
   "outputs": [
    {
     "name": "stdout",
     "output_type": "stream",
     "text": [
      "3\n"
     ]
    }
   ],
   "source": [
    "#不会\n",
    "'''def ser2(n):\n",
    "    if:\n",
    "        \n",
    "    elif:'''\n",
    "def binary_search(lst,item):\n",
    "    low = 0\n",
    "    high = len(lst) - 1\n",
    "    \n",
    "    while low <= high:\n",
    "        mid = round((low + high)/2)\n",
    "        \n",
    "        if lst[mid] == item:\n",
    "            return mid\n",
    "        elif lst[mid] > item:\n",
    "            high = mid - 1\n",
    "        else:\n",
    "            low = mid + 1\n",
    "    return None\n",
    "lst = [1,3,5,7,]\n",
    "print(binary_search(lst,7))"
   ]
  },
  {
   "cell_type": "code",
   "execution_count": 48,
   "id": "016b419b-a36a-4bc3-bad3-437da338a6a8",
   "metadata": {},
   "outputs": [
    {
     "data": {
      "text/plain": [
       "46.294678872261045"
      ]
     },
     "execution_count": 48,
     "metadata": {},
     "output_type": "execute_result"
    }
   ],
   "source": [
    "import random\n",
    "a = random.uniform(10,100)\n",
    "a\n"
   ]
  },
  {
   "cell_type": "code",
   "execution_count": 49,
   "id": "2e71376e-99f7-49e0-aa4c-a08ddf74d1ea",
   "metadata": {},
   "outputs": [
    {
     "data": {
      "text/plain": [
       "80.65479815683818"
      ]
     },
     "execution_count": 49,
     "metadata": {},
     "output_type": "execute_result"
    }
   ],
   "source": [
    "import random\n",
    "a = random.uniform(5,95)\n",
    "a"
   ]
  }
 ],
 "metadata": {
  "kernelspec": {
   "display_name": "Python 3 (ipykernel)",
   "language": "python",
   "name": "python3"
  },
  "language_info": {
   "codemirror_mode": {
    "name": "ipython",
    "version": 3
   },
   "file_extension": ".py",
   "mimetype": "text/x-python",
   "name": "python",
   "nbconvert_exporter": "python",
   "pygments_lexer": "ipython3",
   "version": "3.7.9"
  }
 },
 "nbformat": 4,
 "nbformat_minor": 5
}

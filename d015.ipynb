{
 "cells": [
  {
   "cell_type": "code",
   "execution_count": 4,
   "id": "453f5538-d62f-4ce9-96de-dcd970882e1d",
   "metadata": {},
   "outputs": [
    {
     "name": "stdin",
     "output_type": "stream",
     "text": [
      "输入邮箱地址 john@google.com\n"
     ]
    },
    {
     "name": "stdout",
     "output_type": "stream",
     "text": [
      "google\n"
     ]
    }
   ],
   "source": [
    "In = input('输入邮箱地址')\n",
    "a = 0\n",
    "for i in In:\n",
    "    if i == '@':\n",
    "        b = a\n",
    "    if i =='.':\n",
    "        break\n",
    "    a += 1\n",
    "print(In[b+1:a])\n"
   ]
  },
  {
   "cell_type": "code",
   "execution_count": 13,
   "id": "f25d5d27-039c-4e45-abd0-f406f75f6185",
   "metadata": {},
   "outputs": [
    {
     "name": "stdin",
     "output_type": "stream",
     "text": [
      "输入邮箱地址 2 cats and 3 dogs.\n"
     ]
    },
    {
     "name": "stdout",
     "output_type": "stream",
     "text": [
      "[]\n"
     ]
    }
   ],
   "source": [
    "import re\n",
    "In = input('输入邮箱地址')\n",
    "pattern = '\\w+@(\\w+).com'\n",
    "a = re.findall(pattern,In)\n",
    "#ans = (a[0])[1]\n",
    "print(a)"
   ]
  },
  {
   "cell_type": "code",
   "execution_count": 12,
   "id": "5649f6fe-6474-4128-847a-8b5ecb0ff82d",
   "metadata": {},
   "outputs": [
    {
     "name": "stdin",
     "output_type": "stream",
     "text": [
      " 2 cats and 3 dogs.\n"
     ]
    },
    {
     "name": "stdout",
     "output_type": "stream",
     "text": [
      "['2', '3']\n"
     ]
    }
   ],
   "source": [
    "In = input().split(' ')\n",
    "tmp = []\n",
    "for i in In:\n",
    "    if '0'<=i<='9':\n",
    "        tmp.append(i)\n",
    "print(tmp)"
   ]
  },
  {
   "cell_type": "code",
   "execution_count": 15,
   "id": "de4d1f9c-4e03-4e25-8f43-80ceecfdd251",
   "metadata": {},
   "outputs": [
    {
     "name": "stdin",
     "output_type": "stream",
     "text": [
      " 2 cats and 3 dogs.\n"
     ]
    },
    {
     "name": "stdout",
     "output_type": "stream",
     "text": [
      "['2', '3']\n"
     ]
    }
   ],
   "source": [
    "import re\n",
    "In = input()\n",
    "pattern = '\\d+'\n",
    "a = re.findall(pattern,In)\n",
    "print(a)"
   ]
  },
  {
   "cell_type": "code",
   "execution_count": 21,
   "id": "20a939de-efd9-4a9f-8abe-a0e365b7646a",
   "metadata": {},
   "outputs": [
    {
     "name": "stdout",
     "output_type": "stream",
     "text": [
      "hello world\n"
     ]
    }
   ],
   "source": [
    "a = u\"hello world\"\n",
    "print(a)"
   ]
  },
  {
   "cell_type": "code",
   "execution_count": 23,
   "id": "a7484e88-a45e-45de-8bb1-9a8d35b0bc6f",
   "metadata": {},
   "outputs": [
    {
     "name": "stdin",
     "output_type": "stream",
     "text": [
      " \"hello world\"\n"
     ]
    },
    {
     "data": {
      "text/plain": [
       "b'\"hello world\"'"
      ]
     },
     "execution_count": 23,
     "metadata": {},
     "output_type": "execute_result"
    }
   ],
   "source": [
    "In = input()\n",
    "u = In.encode('utf-8')\n",
    "u"
   ]
  },
  {
   "cell_type": "code",
   "execution_count": null,
   "id": "61b1dd60-12d3-4528-80d4-2a5248d70542",
   "metadata": {},
   "outputs": [],
   "source": [
    "#encode = 'utf-8'假的\n",
    "# -*- coding: utf-8 -*-\n"
   ]
  },
  {
   "cell_type": "code",
   "execution_count": 40,
   "id": "3100ad74-76f0-4fa4-9c12-31063316e0d3",
   "metadata": {},
   "outputs": [
    {
     "name": "stdin",
     "output_type": "stream",
     "text": [
      "输入n 5\n"
     ]
    },
    {
     "name": "stdout",
     "output_type": "stream",
     "text": [
      "3.55\n"
     ]
    }
   ],
   "source": [
    "n = int(input('输入n'))\n",
    "Sum = 0\n",
    "for i in range(1,n+1):\n",
    "    Sum += i/(i+1)\n",
    "print('%.2f'%Sum)\n",
    "#OR print(round(sum,2))"
   ]
  },
  {
   "cell_type": "code",
   "execution_count": null,
   "id": "af32b9b6-8c38-4cfd-9331-a8568ea35ade",
   "metadata": {},
   "outputs": [],
   "source": []
  }
 ],
 "metadata": {
  "kernelspec": {
   "display_name": "Python 3 (ipykernel)",
   "language": "python",
   "name": "python3"
  },
  "language_info": {
   "codemirror_mode": {
    "name": "ipython",
    "version": 3
   },
   "file_extension": ".py",
   "mimetype": "text/x-python",
   "name": "python",
   "nbconvert_exporter": "python",
   "pygments_lexer": "ipython3",
   "version": "3.7.9"
  }
 },
 "nbformat": 4,
 "nbformat_minor": 5
}

{
 "cells": [
  {
   "cell_type": "code",
   "execution_count": 16,
   "id": "8adcd13d-3f04-466f-958a-e71cc85f3f0d",
   "metadata": {},
   "outputs": [
    {
     "name": "stdin",
     "output_type": "stream",
     "text": [
      "words New to Python or choosing between Python 2 and Python 3? Read Python 2 or Python 3.\n"
     ]
    },
    {
     "name": "stdout",
     "output_type": "stream",
     "text": [
      "2:2\n",
      "3.:1\n",
      "3?:1\n",
      "New:1\n",
      "Python:5\n",
      "Read:1\n",
      "and:1\n",
      "between:1\n",
      "choosing:1\n",
      "or:2\n",
      "to:1\n"
     ]
    }
   ],
   "source": [
    "In = input('words').split()\n",
    "tmp = sorted(list(set(In)))\n",
    "for i in tmp:\n",
    "    print('{}:{}'.format(i,In.count(i)))"
   ]
  },
  {
   "cell_type": "code",
   "execution_count": 4,
   "id": "c1f003c1-83ff-4917-b2d2-2209c37240ee",
   "metadata": {},
   "outputs": [
    {
     "name": "stdin",
     "output_type": "stream",
     "text": [
      " 4\n"
     ]
    },
    {
     "data": {
      "text/plain": [
       "2.0"
      ]
     },
     "execution_count": 4,
     "metadata": {},
     "output_type": "execute_result"
    }
   ],
   "source": [
    "def sqr(x):\n",
    "    return x**(1/2)\n",
    "sqr(int(input()))"
   ]
  },
  {
   "cell_type": "code",
   "execution_count": 12,
   "id": "40693b72-fc66-4dd7-a96b-9eaf3053cc4b",
   "metadata": {},
   "outputs": [
    {
     "name": "stdout",
     "output_type": "stream",
     "text": [
      "Return the absolute value of the argument.\n",
      "int([x]) -> integer\n",
      "int(x, base=10) -> integer\n",
      "\n",
      "Convert a number or string to an integer, or return 0 if no arguments\n",
      "are given.  If x is a number, return x.__int__().  For floating point\n",
      "numbers, this truncates towards zero.\n",
      "\n",
      "If x is not a number or if base is given, then x must be a string,\n",
      "bytes, or bytearray instance representing an integer literal in the\n",
      "given base.  The literal can be preceded by '+' or '-' and be surrounded\n",
      "by whitespace.  The base defaults to 10.  Valid bases are 0 and 2-36.\n",
      "Base 0 means to interpret the base from the string as an integer literal.\n",
      ">>> int('0b100', base=0)\n",
      "4\n"
     ]
    }
   ],
   "source": [
    "def archivefun(name):\n",
    "    print(name.__doc__)\n",
    "archivefun(abs)\n",
    "archivefun(int)"
   ]
  },
  {
   "cell_type": "code",
   "execution_count": 19,
   "id": "a7985919-a494-4d49-a77d-faaecd5099d9",
   "metadata": {},
   "outputs": [
    {
     "name": "stdout",
     "output_type": "stream",
     "text": [
      "somebody,who\n"
     ]
    }
   ],
   "source": [
    "class c1(object):\n",
    "    name = 'somebody'\n",
    "    def __init__(self,name = None):\n",
    "        self.name=name\n",
    "mine = c1()\n",
    "mine.name = 'who'\n",
    "print('{},{}'.format(c1.name,mine.name))"
   ]
  },
  {
   "cell_type": "code",
   "execution_count": null,
   "id": "ec2a63a0-5a3e-4aef-bc85-95901ce1b7e2",
   "metadata": {},
   "outputs": [],
   "source": []
  }
 ],
 "metadata": {
  "kernelspec": {
   "display_name": "Python 3 (ipykernel)",
   "language": "python",
   "name": "python3"
  },
  "language_info": {
   "codemirror_mode": {
    "name": "ipython",
    "version": 3
   },
   "file_extension": ".py",
   "mimetype": "text/x-python",
   "name": "python",
   "nbconvert_exporter": "python",
   "pygments_lexer": "ipython3",
   "version": "3.7.9"
  }
 },
 "nbformat": 4,
 "nbformat_minor": 5
}

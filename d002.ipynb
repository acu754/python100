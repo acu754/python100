{
 "cells": [
  {
   "cell_type": "code",
   "execution_count": 78,
   "id": "f52a6317-3c11-4ddc-82cc-fdda5b97568d",
   "metadata": {},
   "outputs": [
    {
     "name": "stdin",
     "output_type": "stream",
     "text": [
      "输入数字 651,7498,65\n"
     ]
    },
    {
     "name": "stdout",
     "output_type": "stream",
     "text": [
      "['651', '7498', '65'] ('651', '7498', '65')\n"
     ]
    }
   ],
   "source": [
    "a = input('输入数字')\n",
    "b = a.split(',')\n",
    "c = tuple(b)\n",
    "print(b,c)"
   ]
  },
  {
   "cell_type": "code",
   "execution_count": 26,
   "id": "415a0679-0b2b-449e-b157-5eecc2e708ee",
   "metadata": {},
   "outputs": [
    {
     "name": "stdin",
     "output_type": "stream",
     "text": [
      "输入字符串: asdpoijwdj\n"
     ]
    },
    {
     "name": "stdout",
     "output_type": "stream",
     "text": [
      "输出字符串: ASDPOIJWDJ\n"
     ]
    }
   ],
   "source": [
    "#这题不会\n",
    "class inout:\n",
    "    def __init__(self):\n",
    "        self.s = ''\n",
    "    def getString(self):\n",
    "        self.s = input('输入字符串:')\n",
    "    def printString(self):\n",
    "        print('输出字符串:',self.s.upper())\n",
    "gg = inout()\n",
    "gg.getString()\n",
    "gg.printString()"
   ]
  },
  {
   "cell_type": "code",
   "execution_count": 44,
   "id": "1ad6e9b6-2349-4af9-8af5-8a93acfca4e2",
   "metadata": {},
   "outputs": [
    {
     "name": "stdin",
     "output_type": "stream",
     "text": [
      "输入D 100,150,180\n"
     ]
    },
    {
     "name": "stdout",
     "output_type": "stream",
     "text": [
      "18,22,24\n"
     ]
    }
   ],
   "source": [
    "#不熟\n",
    "def compute(D):\n",
    "    D = D.split(',')\n",
    "    C,H = 50,30\n",
    "    result=[]\n",
    "    for i in range(len(D)):\n",
    "        Q = ((2*C*int(D[i]))/H)**(1/2)\n",
    "        result.append(str(round(Q)))\n",
    "    print(','.join(result))\n",
    "    \n",
    "\n",
    "compute(input('输入D'))"
   ]
  },
  {
   "cell_type": "code",
   "execution_count": 63,
   "id": "8c5a012b-b5e2-4f95-968c-94fbb41255a2",
   "metadata": {},
   "outputs": [
    {
     "name": "stdin",
     "output_type": "stream",
     "text": [
      "输入两数字，逗号分隔 3,5\n"
     ]
    },
    {
     "name": "stdout",
     "output_type": "stream",
     "text": [
      "[[0. 0. 0. 0. 0.]\n",
      " [0. 1. 2. 3. 4.]\n",
      " [0. 2. 4. 6. 8.]]\n"
     ]
    }
   ],
   "source": [
    "#不熟\n",
    "import numpy as np\n",
    "c=input(\"输入两数字，逗号分隔\")\n",
    "c=c.split(',')\n",
    "\n",
    "x = int(c[0])\n",
    "y = int(c[1])\n",
    "result=np.zeros((x,y))\n",
    "for i in range(x):\n",
    "    for j in range(y):\n",
    "        result[i][j]=i*j\n",
    "print(result)"
   ]
  },
  {
   "cell_type": "code",
   "execution_count": 61,
   "id": "2663a1c6-b5f6-433e-8e58-32df7c1183ce",
   "metadata": {},
   "outputs": [
    {
     "name": "stdin",
     "output_type": "stream",
     "text": [
      " 3,5\n"
     ]
    },
    {
     "name": "stdout",
     "output_type": "stream",
     "text": [
      "[[0, 0, 0, 0, 0], [0, 1, 2, 3, 4], [0, 2, 4, 6, 8]]\n"
     ]
    }
   ],
   "source": [
    "x,y = map(int,input().split(','))\n",
    "lst = []\n",
    "\n",
    "for i in range(x):\n",
    "    tmp = []\n",
    "    for j in range(y):\n",
    "        tmp.append(i*j)\n",
    "    lst.append(tmp)\n",
    "\n",
    "print(lst)\n"
   ]
  },
  {
   "cell_type": "code",
   "execution_count": 69,
   "id": "821da10b-ae3c-45d0-9f3b-16929be906c5",
   "metadata": {},
   "outputs": [
    {
     "name": "stdin",
     "output_type": "stream",
     "text": [
      " without,hello,bag,world\n"
     ]
    },
    {
     "name": "stdout",
     "output_type": "stream",
     "text": [
      "bag,hello,without,world\n"
     ]
    }
   ],
   "source": [
    "#这题不会\n",
    "lst = input().split(',')\n",
    "lst.sort()\n",
    "print(','.join(lst))"
   ]
  },
  {
   "cell_type": "code",
   "execution_count": 99,
   "id": "271493c0-16fc-45f3-a7b2-b63145bff3c7",
   "metadata": {},
   "outputs": [
    {
     "name": "stdin",
     "output_type": "stream",
     "text": [
      " Hello world Practice makes perfect\n",
      " \n"
     ]
    },
    {
     "name": "stdout",
     "output_type": "stream",
     "text": [
      "HELLO WORLD PRACTICE MAKES PERFECT\n"
     ]
    }
   ],
   "source": [
    "#还是不会\n",
    "lst = []\n",
    "\n",
    "while True:\n",
    "    x = input()\n",
    "    if len(x)==0:\n",
    "        break\n",
    "    lst.append(x.upper())\n",
    "\n",
    "for line in lst:\n",
    "    print(line)\n"
   ]
  },
  {
   "cell_type": "code",
   "execution_count": 10,
   "id": "9ad950da-6499-4183-8bfc-2a6a41eb07a6",
   "metadata": {},
   "outputs": [
    {
     "name": "stdin",
     "output_type": "stream",
     "text": [
      "输入D的数值 100,150,180\n"
     ]
    },
    {
     "name": "stdout",
     "output_type": "stream",
     "text": [
      "18,22,24\n"
     ]
    }
   ],
   "source": []
  },
  {
   "cell_type": "code",
   "execution_count": 12,
   "id": "73c6a62a-7892-4def-8f2e-75ee03923210",
   "metadata": {},
   "outputs": [
    {
     "name": "stdin",
     "output_type": "stream",
     "text": [
      "输入XY 3,5\n"
     ]
    },
    {
     "name": "stdout",
     "output_type": "stream",
     "text": [
      "[[0, 0, 0, 0, 0], [0, 1, 2, 3, 4], [0, 2, 4, 6, 8]]\n"
     ]
    }
   ],
   "source": []
  },
  {
   "cell_type": "code",
   "execution_count": 17,
   "id": "c9b3a811-3464-442f-a166-7967a64bbd70",
   "metadata": {},
   "outputs": [
    {
     "name": "stdin",
     "output_type": "stream",
     "text": [
      " Hello world Practice makes perfect\n"
     ]
    },
    {
     "name": "stdout",
     "output_type": "stream",
     "text": [
      "HELLO WORLD PRACTICE MAKES PERFECT\n"
     ]
    }
   ],
   "source": []
  }
 ],
 "metadata": {
  "kernelspec": {
   "display_name": "Python 3 (ipykernel)",
   "language": "python",
   "name": "python3"
  },
  "language_info": {
   "codemirror_mode": {
    "name": "ipython",
    "version": 3
   },
   "file_extension": ".py",
   "mimetype": "text/x-python",
   "name": "python",
   "nbconvert_exporter": "python",
   "pygments_lexer": "ipython3",
   "version": "3.7.9"
  }
 },
 "nbformat": 4,
 "nbformat_minor": 5
}

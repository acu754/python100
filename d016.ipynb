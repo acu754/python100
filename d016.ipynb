{
 "cells": [
  {
   "cell_type": "code",
   "execution_count": 5,
   "id": "efb34999-6f13-4b6a-bfa4-eb1ef099f0d3",
   "metadata": {},
   "outputs": [
    {
     "name": "stdin",
     "output_type": "stream",
     "text": [
      "输入n: 5\n"
     ]
    },
    {
     "data": {
      "text/plain": [
       "500"
      ]
     },
     "execution_count": 5,
     "metadata": {},
     "output_type": "execute_result"
    }
   ],
   "source": [
    "def f(n):\n",
    "    if n > 0:\n",
    "        return f(n-1)+100\n",
    "    else:\n",
    "        return 0\n",
    "f(int(input('输入n:')))"
   ]
  },
  {
   "cell_type": "code",
   "execution_count": 23,
   "id": "1f669fe7-2d44-40e2-b9a0-9903b2e0b87e",
   "metadata": {},
   "outputs": [
    {
     "name": "stdin",
     "output_type": "stream",
     "text": [
      "输入n： 7\n"
     ]
    },
    {
     "data": {
      "text/plain": [
       "13"
      ]
     },
     "execution_count": 23,
     "metadata": {},
     "output_type": "execute_result"
    }
   ],
   "source": [
    "def fbnq(n):\n",
    "    if n==0:\n",
    "        return 0\n",
    "    elif n==1:\n",
    "        return 1\n",
    "    else:\n",
    "        return fbnq(n-1)+fbnq(n-2)\n",
    "n = int(input('输入n：'))\n",
    "fbnq(n)"
   ]
  },
  {
   "cell_type": "code",
   "execution_count": 24,
   "id": "91076b9a-776e-4f32-86d6-8829644ab05a",
   "metadata": {},
   "outputs": [
    {
     "name": "stdin",
     "output_type": "stream",
     "text": [
      "输入n： 7\n"
     ]
    },
    {
     "name": "stdout",
     "output_type": "stream",
     "text": [
      "0,1,1,2,3,5,8,13\n"
     ]
    }
   ],
   "source": [
    "tmp = []\n",
    "def fbnq(n):\n",
    "    if n==0:\n",
    "        return 0\n",
    "    elif n==1:\n",
    "        return 1\n",
    "    else:\n",
    "        return fbnq(n-1)+fbnq(n-2)\n",
    "n = int(input('输入n：'))\n",
    "for i in range(n+1):\n",
    "    tmp.append(str(fbnq(i)))\n",
    "#tmp = [str(fbnq(i)) for i in range(n+1)]\n",
    "print(','.join(tmp))\n"
   ]
  },
  {
   "cell_type": "code",
   "execution_count": 29,
   "id": "6211ae9d-3752-47e3-9f14-5def360bc682",
   "metadata": {},
   "outputs": [
    {
     "name": "stdin",
     "output_type": "stream",
     "text": [
      "输入n 10\n"
     ]
    },
    {
     "data": {
      "text/plain": [
       "<generator object generate at 0x0000024575742BC8>"
      ]
     },
     "execution_count": 29,
     "metadata": {},
     "output_type": "execute_result"
    }
   ],
   "source": [
    "#不会\n",
    "n = int(input('输入n'))\n",
    "def generate(n):\n",
    "    i = 0\n",
    "    ans=[]\n",
    "    while i <n:\n",
    "        yield i\n",
    "        ans.append(str(i))\n",
    "        i += 2\n",
    "    return list(ans)\n",
    "generate(n)"
   ]
  },
  {
   "cell_type": "code",
   "execution_count": 35,
   "id": "06a27b4c-cdcb-4b12-b680-412265f319f0",
   "metadata": {},
   "outputs": [
    {
     "name": "stdin",
     "output_type": "stream",
     "text": [
      " 10\n"
     ]
    },
    {
     "name": "stdout",
     "output_type": "stream",
     "text": [
      "0,2,4,6,8,10\n"
     ]
    }
   ],
   "source": [
    "def EvenGenerator(n):\n",
    "    i=0\n",
    "    while i<=n:\n",
    "        if i%2==0:\n",
    "            yield i\n",
    "        i+=1\n",
    "\n",
    "\n",
    "n=int(input())\n",
    "values = []\n",
    "for i in EvenGenerator(n):\n",
    "    values.append(str(i))\n",
    "\n",
    "print( \",\".join(values))\n",
    "\n"
   ]
  },
  {
   "cell_type": "code",
   "execution_count": 43,
   "id": "17e41507-f5ef-407e-adc7-4d311bab3369",
   "metadata": {},
   "outputs": [
    {
     "name": "stdin",
     "output_type": "stream",
     "text": [
      "请输入n： 100\n"
     ]
    },
    {
     "name": "stdout",
     "output_type": "stream",
     "text": [
      "0,35,70\n"
     ]
    }
   ],
   "source": [
    "def d57(n):\n",
    "    i=0\n",
    "    while i <= n+1:\n",
    "        if (i%5==0) & (i%7==0):\n",
    "            yield i\n",
    "        i+=1\n",
    "n = int(input('请输入n：'))\n",
    "tmp = []\n",
    "for i in d57(n):\n",
    "    tmp.append(str(i))\n",
    "print(','.join(tmp))"
   ]
  }
 ],
 "metadata": {
  "kernelspec": {
   "display_name": "Python 3 (ipykernel)",
   "language": "python",
   "name": "python3"
  },
  "language_info": {
   "codemirror_mode": {
    "name": "ipython",
    "version": 3
   },
   "file_extension": ".py",
   "mimetype": "text/x-python",
   "name": "python",
   "nbconvert_exporter": "python",
   "pygments_lexer": "ipython3",
   "version": "3.7.9"
  }
 },
 "nbformat": 4,
 "nbformat_minor": 5
}

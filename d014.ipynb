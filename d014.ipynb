{
 "cells": [
  {
   "cell_type": "code",
   "execution_count": 3,
   "id": "c7afacdf-4ae4-4c58-a62b-689b585abe56",
   "metadata": {},
   "outputs": [
    {
     "name": "stdout",
     "output_type": "stream",
     "text": [
      "something wrong\n",
      "can't do it\n"
     ]
    }
   ],
   "source": [
    "def te():\n",
    "    try:5/0\n",
    "    except:print('something wrong')\n",
    "te()\n",
    "'''答案\n",
    "def te():\n",
    "    return 5/0\n",
    "try:te()\n",
    "except:print(\"can't do it\")'''"
   ]
  },
  {
   "cell_type": "code",
   "execution_count": 16,
   "id": "82a299ed-6a6c-4a6f-8b16-46380288324f",
   "metadata": {},
   "outputs": [
    {
     "name": "stdin",
     "output_type": "stream",
     "text": [
      " 11\n"
     ]
    },
    {
     "name": "stdout",
     "output_type": "stream",
     "text": [
      "The error raised: 输入应大于10\n"
     ]
    }
   ],
   "source": [
    "#不会\n",
    "'''class exc(Exception):\n",
    "    attribute = \n",
    "    def __init__(self,string):\n",
    "        self.Str = string'''\n",
    "#答案\n",
    "class CustomException(Exception):\n",
    "    def __init__(self,Str):\n",
    "        self.Str = Str\n",
    "num = int(input())\n",
    "\n",
    "try:\n",
    "    if num<10:\n",
    "        raise CustomException('输入应小于10')\n",
    "    elif num >10:\n",
    "        raise CustomException('输入应大于10')\n",
    "except CustomException as ce:\n",
    "    print('The error raised: ' + ce.Str)"
   ]
  },
  {
   "cell_type": "code",
   "execution_count": 18,
   "id": "968a74db-a78e-488d-bc0d-8dc77750b0f7",
   "metadata": {},
   "outputs": [
    {
     "name": "stdin",
     "output_type": "stream",
     "text": [
      "输入电子邮件地址 john@google.com\n"
     ]
    },
    {
     "name": "stdout",
     "output_type": "stream",
     "text": [
      "john\n"
     ]
    }
   ],
   "source": [
    "In = input('输入电子邮件地址')\n",
    "a=0\n",
    "for i in In:\n",
    "    if i=='@':\n",
    "        break\n",
    "    a+=1\n",
    "print(In[:a])\n",
    "#答案\n",
    "'''\n",
    "email = \"john@google.com\"\n",
    "email = email.split('@')\n",
    "print(email[0])\n",
    "\n",
    "OR\n",
    "\n",
    "import re\n",
    "email = \"john@google.com elise@python.com\"\n",
    "pattern = \"(\\w+)@\\w+.com\"\n",
    "ans = re.findall(pattern,email)\n",
    "print(ans)'''\n"
   ]
  }
 ],
 "metadata": {
  "kernelspec": {
   "display_name": "Python 3 (ipykernel)",
   "language": "python",
   "name": "python3"
  },
  "language_info": {
   "codemirror_mode": {
    "name": "ipython",
    "version": 3
   },
   "file_extension": ".py",
   "mimetype": "text/x-python",
   "name": "python",
   "nbconvert_exporter": "python",
   "pygments_lexer": "ipython3",
   "version": "3.7.9"
  }
 },
 "nbformat": 4,
 "nbformat_minor": 5
}

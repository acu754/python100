{
 "cells": [
  {
   "cell_type": "code",
   "execution_count": 51,
   "id": "fb298cd4-49d1-4216-b6f0-ba09dd5e891a",
   "metadata": {},
   "outputs": [
    {
     "name": "stdout",
     "output_type": "stream",
     "text": [
      "[24, 35, 70, 155]\n"
     ]
    }
   ],
   "source": [
    "lst = [12,24,35,70,88,120,155]\n",
    "#an = [x for (i,x) in enumerate(lst) if not( i==0 or i==4 or i==5 )]\n",
    "an = [x for (i,x) in enumerate(lst) if (i!=0 and i!=4 and i!=5)]#为啥不行\n",
    "print(an)"
   ]
  },
  {
   "cell_type": "code",
   "execution_count": 26,
   "id": "f85df168-b167-470e-9bdf-699093b1accc",
   "metadata": {},
   "outputs": [
    {
     "name": "stdout",
     "output_type": "stream",
     "text": [
      "[12, 35, 88, 120, 155]\n"
     ]
    }
   ],
   "source": [
    "lst = [12,24,35,24,88,120,155]\n",
    "while 24 in lst:\n",
    "    lst.remove(24)\n",
    "print(lst)"
   ]
  },
  {
   "cell_type": "code",
   "execution_count": 36,
   "id": "891e3676-face-4337-bd1f-f7f286a59179",
   "metadata": {},
   "outputs": [
    {
     "name": "stdout",
     "output_type": "stream",
     "text": [
      "[35]\n"
     ]
    }
   ],
   "source": [
    "lst1 = [1,3,6,78,35,55]\n",
    "lst2 = [12,24,35,24,88,120,155]\n",
    "lst3 = list(set(lst1)&set(lst2))\n",
    "print(lst3)"
   ]
  },
  {
   "cell_type": "code",
   "execution_count": 54,
   "id": "29db2a3b-f419-4b54-8554-89b93a6f3991",
   "metadata": {},
   "outputs": [
    {
     "name": "stdout",
     "output_type": "stream",
     "text": [
      "[12, 35, 24, 88, 120, 155]\n"
     ]
    }
   ],
   "source": [
    "'''lst = [12,24,35,24,88,120,155,88,120,155]\n",
    "lst = set(lst)\n",
    "print(lst)'''\n",
    "lst = [12,24,35,24,88,120,155,88,120,155]\n",
    "for i in lst:\n",
    "    if lst.count(i) >1:\n",
    "        lst.remove(i)\n",
    "print(lst)"
   ]
  },
  {
   "cell_type": "code",
   "execution_count": 22,
   "id": "b8420668-25d2-46ca-872e-d32005f45341",
   "metadata": {},
   "outputs": [
    {
     "name": "stdin",
     "output_type": "stream",
     "text": [
      " women\n"
     ]
    }
   ],
   "source": [
    "class Person(object):\n",
    "    \n",
    "    def getGender(self):\n",
    "        pass\n",
    "class Male(Person):\n",
    "    def __init__(self,sex):\n",
    "        self.sex = sex\n",
    "        \n",
    "    def getGender(self):\n",
    "        if self.sex == ('man' or 'Man'):\n",
    "            print('Male')\n",
    "class Female(Person):\n",
    "    def __init__(self,sex):\n",
    "        self.sex = sex\n",
    "    def getGender(self):\n",
    "        if self.sex == ('women' or 'Women'):\n",
    "            print('Female')\n",
    "n = input()\n",
    "a = Male(n)\n",
    "a.getGender()"
   ]
  },
  {
   "cell_type": "code",
   "execution_count": null,
   "id": "3529d7e8-0376-481c-97eb-40480913f041",
   "metadata": {},
   "outputs": [],
   "source": [
    "class Person(object):\n",
    "    def getGender( self ):\n",
    "        return \"Unknown\"\n",
    "\n",
    "class Male( Person ):\n",
    "    def getGender( self ):\n",
    "        return \"Male\"\n",
    "\n",
    "class Female( Person ):\n",
    "    def getGender( self ):\n",
    "        return \"Female\"\n",
    "\n",
    "aMale = Male()\n",
    "aFemale= Female()\n",
    "print aMale.getGender()\n",
    "print aFemale.getGender()\n"
   ]
  }
 ],
 "metadata": {
  "kernelspec": {
   "display_name": "Python 3 (ipykernel)",
   "language": "python",
   "name": "python3"
  },
  "language_info": {
   "codemirror_mode": {
    "name": "ipython",
    "version": 3
   },
   "file_extension": ".py",
   "mimetype": "text/x-python",
   "name": "python",
   "nbconvert_exporter": "python",
   "pygments_lexer": "ipython3",
   "version": "3.7.9"
  }
 },
 "nbformat": 4,
 "nbformat_minor": 5
}

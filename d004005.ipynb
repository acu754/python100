{
 "cells": [
  {
   "cell_type": "code",
   "execution_count": 1,
   "id": "c9df10fd-469a-4473-b10c-6113a5d257b8",
   "metadata": {},
   "outputs": [
    {
     "name": "stdin",
     "output_type": "stream",
     "text": [
      " Hello world!\n"
     ]
    },
    {
     "name": "stdout",
     "output_type": "stream",
     "text": [
      "UPPER CASE 1\n",
      "LOWER CASE 9\n"
     ]
    }
   ],
   "source": [
    "In = input()\n",
    "uc,lc = 0,0\n",
    "for i in In:\n",
    "    if 'a' <= i <= 'z':\n",
    "        lc+=1\n",
    "    if 'A' <= i <= 'Z':\n",
    "        uc+=1\n",
    "print('UPPER CASE {0}\\nLOWER CASE {1}'.format(uc,lc))"
   ]
  },
  {
   "cell_type": "code",
   "execution_count": 4,
   "id": "4f892bea-3809-475d-bc9e-fd8cbaee6d29",
   "metadata": {},
   "outputs": [
    {
     "name": "stdin",
     "output_type": "stream",
     "text": [
      "输入数字 9\n"
     ]
    },
    {
     "name": "stdout",
     "output_type": "stream",
     "text": [
      "11106\n"
     ]
    }
   ],
   "source": [
    "#method_1\n",
    "In = int(input('输入数字'))\n",
    "g = In\n",
    "s = In*10+g\n",
    "b = In*100+s\n",
    "q = In*1000+b\n",
    "print(g+s+b+q)"
   ]
  },
  {
   "cell_type": "code",
   "execution_count": 7,
   "id": "08667163-2a66-440a-891c-e0e51082fba0",
   "metadata": {},
   "outputs": [
    {
     "name": "stdin",
     "output_type": "stream",
     "text": [
      "输入数字 9\n"
     ]
    },
    {
     "name": "stdout",
     "output_type": "stream",
     "text": [
      "11106\n"
     ]
    }
   ],
   "source": [
    "#method_2\n",
    "In = input('输入数字')\n",
    "tmp=''\n",
    "total=0\n",
    "for i in range(4):\n",
    "    tmp += In \n",
    "    total += int(tmp)\n",
    "print(total)"
   ]
  },
  {
   "cell_type": "code",
   "execution_count": 10,
   "id": "598e105e-311a-450b-ba9b-cf93b4668f2e",
   "metadata": {},
   "outputs": [
    {
     "name": "stdin",
     "output_type": "stream",
     "text": [
      " 1,2,3,4,5,6,7,8,9\n"
     ]
    },
    {
     "name": "stdout",
     "output_type": "stream",
     "text": [
      "1,9,25,49,81\n",
      "['1', '9', '25', '49', '81']\n"
     ]
    }
   ],
   "source": [
    "In = input().split(',')\n",
    "Out = []\n",
    "for i in In:\n",
    "    if int(i)%2==1:\n",
    "        Out.append(str(pow(int(i),2)))\n",
    "print(','.join(Out))"
   ]
  },
  {
   "cell_type": "code",
   "execution_count": 17,
   "id": "83b19389-e7b4-4fba-af69-95be00443303",
   "metadata": {},
   "outputs": [
    {
     "name": "stdin",
     "output_type": "stream",
     "text": [
      "输入银行日志 D 300 D 300 W 200 D 100\n"
     ]
    },
    {
     "name": "stdout",
     "output_type": "stream",
     "text": [
      "500\n"
     ]
    }
   ],
   "source": [
    "In = input('输入银行日志').split()\n",
    "Out = 0\n",
    "for i in range(len(In)):\n",
    "    if In[i] == 'D':\n",
    "        Out+=int(In[i+1])\n",
    "    if In[i] == 'W':\n",
    "        Out-=int(In[i+1])\n",
    "print(Out)"
   ]
  }
 ],
 "metadata": {
  "kernelspec": {
   "display_name": "Python 3 (ipykernel)",
   "language": "python",
   "name": "python3"
  },
  "language_info": {
   "codemirror_mode": {
    "name": "ipython",
    "version": 3
   },
   "file_extension": ".py",
   "mimetype": "text/x-python",
   "name": "python",
   "nbconvert_exporter": "python",
   "pygments_lexer": "ipython3",
   "version": "3.7.9"
  }
 },
 "nbformat": 4,
 "nbformat_minor": 5
}

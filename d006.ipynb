{
 "cells": [
  {
   "cell_type": "code",
   "execution_count": 1,
   "id": "6e9267e8-3a6e-4da5-9862-c312cda05509",
   "metadata": {},
   "outputs": [
    {
     "name": "stdin",
     "output_type": "stream",
     "text": [
      " s\n"
     ]
    },
    {
     "ename": "ValueError",
     "evalue": "invalid literal for int() with base 10: 's'",
     "output_type": "error",
     "traceback": [
      "\u001b[1;31m---------------------------------------------------------------------------\u001b[0m",
      "\u001b[1;31mValueError\u001b[0m                                Traceback (most recent call last)",
      "\u001b[1;32m~\\AppData\\Local\\Temp/ipykernel_2332/981308706.py\u001b[0m in \u001b[0;36m<module>\u001b[1;34m\u001b[0m\n\u001b[0;32m      2\u001b[0m \u001b[0mOut\u001b[0m \u001b[1;33m=\u001b[0m \u001b[1;33m[\u001b[0m\u001b[1;33m]\u001b[0m\u001b[1;33m\u001b[0m\u001b[1;33m\u001b[0m\u001b[0m\n\u001b[0;32m      3\u001b[0m \u001b[1;32mfor\u001b[0m \u001b[0mi\u001b[0m \u001b[1;32min\u001b[0m \u001b[0mIn\u001b[0m\u001b[1;33m:\u001b[0m\u001b[1;33m\u001b[0m\u001b[1;33m\u001b[0m\u001b[0m\n\u001b[1;32m----> 4\u001b[1;33m     \u001b[1;32mif\u001b[0m \u001b[0mint\u001b[0m\u001b[1;33m(\u001b[0m\u001b[0mi\u001b[0m\u001b[1;33m)\u001b[0m\u001b[1;33m%\u001b[0m\u001b[1;36m2\u001b[0m\u001b[1;33m==\u001b[0m\u001b[1;36m1\u001b[0m\u001b[1;33m:\u001b[0m\u001b[1;33m\u001b[0m\u001b[1;33m\u001b[0m\u001b[0m\n\u001b[0m\u001b[0;32m      5\u001b[0m         \u001b[0mOut\u001b[0m\u001b[1;33m.\u001b[0m\u001b[0mappend\u001b[0m\u001b[1;33m(\u001b[0m\u001b[0mstr\u001b[0m\u001b[1;33m(\u001b[0m\u001b[0mpow\u001b[0m\u001b[1;33m(\u001b[0m\u001b[0mint\u001b[0m\u001b[1;33m(\u001b[0m\u001b[0mi\u001b[0m\u001b[1;33m)\u001b[0m\u001b[1;33m,\u001b[0m\u001b[1;36m2\u001b[0m\u001b[1;33m)\u001b[0m\u001b[1;33m)\u001b[0m\u001b[1;33m)\u001b[0m\u001b[1;33m\u001b[0m\u001b[1;33m\u001b[0m\u001b[0m\n\u001b[0;32m      6\u001b[0m \u001b[0mprint\u001b[0m\u001b[1;33m(\u001b[0m\u001b[1;34m','\u001b[0m\u001b[1;33m.\u001b[0m\u001b[0mjoin\u001b[0m\u001b[1;33m(\u001b[0m\u001b[0mOut\u001b[0m\u001b[1;33m)\u001b[0m\u001b[1;33m)\u001b[0m\u001b[1;33m\u001b[0m\u001b[1;33m\u001b[0m\u001b[0m\n",
      "\u001b[1;31mValueError\u001b[0m: invalid literal for int() with base 10: 's'"
     ]
    }
   ],
   "source": [
    "In = input().split(',')\n",
    "Out = []\n",
    "for i in In:\n",
    "    if int(i)%2==1:\n",
    "        Out.append(str(pow(int(i),2)))\n",
    "print(','.join(Out))"
   ]
  },
  {
   "cell_type": "code",
   "execution_count": 5,
   "id": "43b49c2d-ef8a-4e85-801a-a1bb2bcbdef1",
   "metadata": {},
   "outputs": [
    {
     "name": "stdin",
     "output_type": "stream",
     "text": [
      "输入银行日志 D 300\n",
      "输入银行日志 D 300\n",
      "输入银行日志 W 200\n",
      "输入银行日志 D 100\n",
      "输入银行日志 \n"
     ]
    },
    {
     "name": "stdout",
     "output_type": "stream",
     "text": [
      "500\n"
     ]
    }
   ],
   "source": [
    "Out = 0\n",
    "while True:\n",
    "    In = input('输入银行日志').split()\n",
    "    if not In:\n",
    "        break\n",
    "    for i in range(len(In)):\n",
    "        if In[i] == 'D':\n",
    "            Out+=int(In[i+1])\n",
    "        if In[i] == 'W':\n",
    "            Out-=int(In[i+1])\n",
    "print(Out)"
   ]
  },
  {
   "cell_type": "code",
   "execution_count": 14,
   "id": "5913b362-5571-4f18-8fb8-14187cf15eca",
   "metadata": {},
   "outputs": [
    {
     "name": "stdin",
     "output_type": "stream",
     "text": [
      "输入密码，逗号分隔 ABd1234@1,a F1#,2w3E*,2We3345\n"
     ]
    },
    {
     "name": "stdout",
     "output_type": "stream",
     "text": [
      "ABd1234@1\n"
     ]
    }
   ],
   "source": [
    "In = input('输入密码，逗号分隔').split(',')\n",
    "Out = []\n",
    "for i in In:\n",
    "    lp,dg,up,ch,le=0,0,0,0,len(i)\n",
    "    for j in i:\n",
    "        if 'a' <= j <= 'z':\n",
    "            lp+=1\n",
    "        if 'A' <= j <= 'Z':\n",
    "            up+=1\n",
    "        if '0' <= j <= '9':\n",
    "            dg+=1\n",
    "        if j == '@' or j == '$' or j == '#':\n",
    "            ch+=1\n",
    "    if lp>0 and up>0 and dg>0 and ch>0 and 6<=le<=12:\n",
    "        Out.append(i)\n",
    "print(','.join(Out))"
   ]
  },
  {
   "cell_type": "code",
   "execution_count": 26,
   "id": "c820e360-c5b6-4a56-b225-d8d92b795560",
   "metadata": {},
   "outputs": [
    {
     "name": "stdin",
     "output_type": "stream",
     "text": [
      "名字，年龄，分数 Tom,19,80\n",
      "名字，年龄，分数 John,20,90\n",
      "名字，年龄，分数 \n"
     ]
    },
    {
     "name": "stdout",
     "output_type": "stream",
     "text": [
      "[('J', 'o', 'h', 'n', ',', '2', '0', ',', '9', '0'), ('T', 'o', 'm', ',', '1', '9', ',', '8', '0')]\n"
     ]
    }
   ],
   "source": [
    "#不会\n",
    "Out = []\n",
    "while True:\n",
    "    In = input('名字，年龄，分数')\n",
    "    if not In:\n",
    "        break\n",
    "    In.split(',')\n",
    "    Out.append(tuple(In))\n",
    "Out.sort(key)\n",
    "print(Out)"
   ]
  },
  {
   "cell_type": "code",
   "execution_count": 27,
   "id": "de5e1d87-22e8-4eed-8d77-38a3ca70a89f",
   "metadata": {},
   "outputs": [
    {
     "name": "stdin",
     "output_type": "stream",
     "text": [
      " Tom,19,80\n",
      " John,20,90\n",
      " Jony,17,91\n",
      " \n"
     ]
    },
    {
     "name": "stdout",
     "output_type": "stream",
     "text": [
      "[('John', '20', '90'), ('Jony', '17', '91'), ('Tom', '19', '80')]\n"
     ]
    }
   ],
   "source": [
    "lst = []\n",
    "while True:\n",
    "    s = input().split(',')\n",
    "    if not s[0]:                          # breaks for blank input\n",
    "        break\n",
    "    lst.append(tuple(s))\n",
    "\n",
    "lst.sort(key= lambda x:(x[0],int(x[1]),int(x[2])))  # here key is defined by lambda and the data is sorted by element priority 0>1>2 in accending order\n",
    "print(lst)"
   ]
  }
 ],
 "metadata": {
  "kernelspec": {
   "display_name": "Python 3 (ipykernel)",
   "language": "python",
   "name": "python3"
  },
  "language_info": {
   "codemirror_mode": {
    "name": "ipython",
    "version": 3
   },
   "file_extension": ".py",
   "mimetype": "text/x-python",
   "name": "python",
   "nbconvert_exporter": "python",
   "pygments_lexer": "ipython3",
   "version": "3.7.9"
  }
 },
 "nbformat": 4,
 "nbformat_minor": 5
}

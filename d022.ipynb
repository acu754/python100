{
 "cells": [
  {
   "cell_type": "code",
   "execution_count": 10,
   "id": "d9a211f6-ff80-453b-a62b-a98647bcf50e",
   "metadata": {},
   "outputs": [
    {
     "name": "stdin",
     "output_type": "stream",
     "text": [
      "输入字符串 abcdefgabc\n"
     ]
    },
    {
     "name": "stdout",
     "output_type": "stream",
     "text": [
      "{'a': 2, 'b': 2, 'c': 2, 'd': 1, 'e': 1, 'f': 1, 'g': 1}\n"
     ]
    }
   ],
   "source": [
    "n = input('输入字符串')\n",
    "tmp = dict()\n",
    "for i in n:\n",
    "    tmp[i] = n.count(i)\n",
    "print(tmp)"
   ]
  },
  {
   "cell_type": "code",
   "execution_count": 12,
   "id": "64a82016-85b2-4f8c-9b3f-6db51bbbd7b2",
   "metadata": {},
   "outputs": [
    {
     "name": "stdin",
     "output_type": "stream",
     "text": [
      "输入字符串 abcdefgabc\n"
     ]
    },
    {
     "name": "stdout",
     "output_type": "stream",
     "text": [
      "a,2\n",
      "b,2\n",
      "c,2\n",
      "d,1\n",
      "e,1\n",
      "f,1\n",
      "g,1\n"
     ]
    }
   ],
   "source": [
    "n = input('输入字符串')\n",
    "tmp = dict()\n",
    "for i in n:\n",
    "    tmp[i] = tmp.get(i,0) + 1\n",
    "print('\\n'.join(['{},{}'.format(k,v) for k,v in tmp.items()]))"
   ]
  },
  {
   "cell_type": "code",
   "execution_count": 13,
   "id": "5a5665d7-cbeb-4c42-84d7-bf26f68cf643",
   "metadata": {},
   "outputs": [
    {
     "name": "stdin",
     "output_type": "stream",
     "text": [
      "输入字符串 rise to vote sir\n"
     ]
    },
    {
     "name": "stdout",
     "output_type": "stream",
     "text": [
      "ris etov ot esir\n"
     ]
    }
   ],
   "source": [
    "n = input('输入字符串')\n",
    "print(n[::-1])"
   ]
  },
  {
   "cell_type": "code",
   "execution_count": 23,
   "id": "de420072-0787-4c0d-a014-3083c4e9da70",
   "metadata": {},
   "outputs": [
    {
     "name": "stdin",
     "output_type": "stream",
     "text": [
      "输入字符串 H1e2l3l4o5w6o7r8l9d\n"
     ]
    },
    {
     "name": "stdout",
     "output_type": "stream",
     "text": [
      "Helloworld\n"
     ]
    }
   ],
   "source": [
    "n = input('输入字符串')\n",
    "tmp = [n[i] for i in range(len(n)) if i%2==0]\n",
    "print(''.join(tmp))"
   ]
  },
  {
   "cell_type": "code",
   "execution_count": 27,
   "id": "f4c52242-df2c-498b-bd45-250ed0322acf",
   "metadata": {},
   "outputs": [
    {
     "data": {
      "text/plain": [
       "[(1, 2, 3), (1, 3, 2), (2, 1, 3), (2, 3, 1), (3, 1, 2), (3, 2, 1)]"
      ]
     },
     "execution_count": 27,
     "metadata": {},
     "output_type": "execute_result"
    }
   ],
   "source": [
    "import itertools\n",
    "a = list(itertools.permutations([1,2,3]))\n",
    "a"
   ]
  },
  {
   "cell_type": "code",
   "execution_count": 34,
   "id": "1ccf2515-b9a3-496e-b3cc-b4dde682b543",
   "metadata": {},
   "outputs": [
    {
     "name": "stdout",
     "output_type": "stream",
     "text": [
      "23  12\n"
     ]
    }
   ],
   "source": [
    "'''class ji():\n",
    "    head = 1\n",
    "    leg = 2\n",
    "class tu():\n",
    "    head = 1\n",
    "    leg = 4\n",
    "g=0\n",
    "t=0\n",
    "g+t = 35\n",
    "2g+4t =94'''\n",
    "for i in range(36):\n",
    "    t = 35 - i\n",
    "    if 2*i+4*t==94:\n",
    "        print(i,'',t)"
   ]
  },
  {
   "cell_type": "code",
   "execution_count": null,
   "id": "e548f16a-ba9d-4069-9391-e98212f371c3",
   "metadata": {},
   "outputs": [],
   "source": [
    "def solve(numheads,numlegs):\n",
    "    ns='No solutions!'\n",
    "    for i in range(numheads+1):\n",
    "        j=numheads-i\n",
    "        if 2*i+4*j==numlegs:\n",
    "            return i,j\n",
    "    return ns,ns\n",
    "\n",
    "numheads=35\n",
    "numlegs=94\n",
    "solutions=solve(numheads,numlegs)\n",
    "print solutions\n"
   ]
  }
 ],
 "metadata": {
  "kernelspec": {
   "display_name": "Python 3 (ipykernel)",
   "language": "python",
   "name": "python3"
  },
  "language_info": {
   "codemirror_mode": {
    "name": "ipython",
    "version": 3
   },
   "file_extension": ".py",
   "mimetype": "text/x-python",
   "name": "python",
   "nbconvert_exporter": "python",
   "pygments_lexer": "ipython3",
   "version": "3.7.9"
  }
 },
 "nbformat": 4,
 "nbformat_minor": 5
}

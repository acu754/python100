{
 "cells": [
  {
   "cell_type": "code",
   "execution_count": 1,
   "id": "5e16b3f1-a747-46ae-b30b-b1075366913f",
   "metadata": {},
   "outputs": [
    {
     "data": {
      "text/plain": [
       "7"
      ]
     },
     "execution_count": 1,
     "metadata": {},
     "output_type": "execute_result"
    }
   ],
   "source": [
    "def Sum(a,b):\n",
    "    return a+b\n",
    "Sum(3,4)"
   ]
  },
  {
   "cell_type": "code",
   "execution_count": 6,
   "id": "c98ed7d6-4bbd-4bdd-bdbe-fc8e7ec62e75",
   "metadata": {},
   "outputs": [
    {
     "name": "stdout",
     "output_type": "stream",
     "text": [
      "5\n"
     ]
    },
    {
     "data": {
      "text/plain": [
       "str"
      ]
     },
     "execution_count": 6,
     "metadata": {},
     "output_type": "execute_result"
    }
   ],
   "source": [
    "def int2str(num):\n",
    "    print(str(num))\n",
    "    return str(num)\n",
    "type(int2str(5))"
   ]
  },
  {
   "cell_type": "code",
   "execution_count": 8,
   "id": "5fe440fb-d37a-4d11-89ca-cae6b50ea9af",
   "metadata": {},
   "outputs": [],
   "source": [
    "def str2int(num1,num2):\n",
    "    return int(num1)+int(num2)\n",
    "#sum = lambda s1,s2:int(s1) + int(s2)"
   ]
  },
  {
   "cell_type": "code",
   "execution_count": 9,
   "id": "3f0ec892-2ce7-4f03-b0d0-7584818f6ad5",
   "metadata": {},
   "outputs": [
    {
     "data": {
      "text/plain": [
       "'ab'"
      ]
     },
     "execution_count": 9,
     "metadata": {},
     "output_type": "execute_result"
    }
   ],
   "source": [
    "def conca(a,b):\n",
    "    return a+b\n",
    "conca('a','b')"
   ]
  },
  {
   "cell_type": "code",
   "execution_count": 12,
   "id": "9a1896c9-5cff-43bd-aec1-ebe5666440ab",
   "metadata": {},
   "outputs": [
    {
     "name": "stdout",
     "output_type": "stream",
     "text": [
      "asdlkj\n",
      "awfopi\n"
     ]
    }
   ],
   "source": [
    "def le(a,b):\n",
    "    if len(a)>len(b):\n",
    "        print(a)\n",
    "    elif len(a)<len(b):\n",
    "        print(b)\n",
    "    else:\n",
    "        print('{}\\n{}'.format(a,b))\n",
    "le('asdlkj', 'awfopi')"
   ]
  }
 ],
 "metadata": {
  "kernelspec": {
   "display_name": "Python 3 (ipykernel)",
   "language": "python",
   "name": "python3"
  },
  "language_info": {
   "codemirror_mode": {
    "name": "ipython",
    "version": 3
   },
   "file_extension": ".py",
   "mimetype": "text/x-python",
   "name": "python",
   "nbconvert_exporter": "python",
   "pygments_lexer": "ipython3",
   "version": "3.7.9"
  }
 },
 "nbformat": 4,
 "nbformat_minor": 5
}

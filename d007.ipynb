{
 "cells": [
  {
   "cell_type": "code",
   "execution_count": 2,
   "id": "6966581e-8484-481b-bfb0-6a7f10bc177a",
   "metadata": {},
   "outputs": [
    {
     "name": "stdin",
     "output_type": "stream",
     "text": [
      "输入数字n 7\n"
     ]
    },
    {
     "name": "stdout",
     "output_type": "stream",
     "text": [
      "0\n",
      "7\n"
     ]
    }
   ],
   "source": [
    "class gensb(object):\n",
    "    def __init__(self):\n",
    "        self.s=0\n",
    "    def calculate(self):\n",
    "        self.s = int(input('输入数字n'))\n",
    "        for i in range(self.s+1):\n",
    "            if i%7==0:\n",
    "                print(i)\n",
    "                \n",
    "a = gensb()\n",
    "a.calculate()"
   ]
  },
  {
   "cell_type": "code",
   "execution_count": 9,
   "id": "f597e3b1-c76d-43dd-b5da-147672fce852",
   "metadata": {},
   "outputs": [
    {
     "name": "stdin",
     "output_type": "stream",
     "text": [
      "输入轨迹 UP 5\n"
     ]
    },
    {
     "name": "stdout",
     "output_type": "stream",
     "text": [
      "['UP', '5']\n"
     ]
    },
    {
     "name": "stdin",
     "output_type": "stream",
     "text": [
      "输入轨迹 DOWN 3\n"
     ]
    },
    {
     "name": "stdout",
     "output_type": "stream",
     "text": [
      "['DOWN', '3']\n"
     ]
    },
    {
     "name": "stdin",
     "output_type": "stream",
     "text": [
      "输入轨迹 LEFT 3\n"
     ]
    },
    {
     "name": "stdout",
     "output_type": "stream",
     "text": [
      "['LEFT', '3']\n"
     ]
    },
    {
     "name": "stdin",
     "output_type": "stream",
     "text": [
      "输入轨迹 RIGHT 2\n"
     ]
    },
    {
     "name": "stdout",
     "output_type": "stream",
     "text": [
      "['RIGHT', '2']\n"
     ]
    },
    {
     "name": "stdin",
     "output_type": "stream",
     "text": [
      "输入轨迹 \n"
     ]
    },
    {
     "name": "stdout",
     "output_type": "stream",
     "text": [
      "2\n"
     ]
    }
   ],
   "source": [
    "inix,iniy=0,0\n",
    "x,y=0,0\n",
    "while True:\n",
    "    In = input('输入轨迹').split()\n",
    "    if not In:\n",
    "        break\n",
    "    if In[0] =='UP':\n",
    "        y+=int(In[1])\n",
    "    elif In[0] == 'DOWN':\n",
    "        y-=int(In[1])\n",
    "    elif In[0] == 'LEFT':\n",
    "        x -= int(In[1])\n",
    "    elif In[0] == 'RIGHT':\n",
    "        x += int(In[1])\n",
    "juli = round(pow((x-inix)**2+(y-iniy)**2,1/2))\n",
    "print(juli)"
   ]
  }
 ],
 "metadata": {
  "kernelspec": {
   "display_name": "Python 3 (ipykernel)",
   "language": "python",
   "name": "python3"
  },
  "language_info": {
   "codemirror_mode": {
    "name": "ipython",
    "version": 3
   },
   "file_extension": ".py",
   "mimetype": "text/x-python",
   "name": "python",
   "nbconvert_exporter": "python",
   "pygments_lexer": "ipython3",
   "version": "3.7.9"
  }
 },
 "nbformat": 4,
 "nbformat_minor": 5
}

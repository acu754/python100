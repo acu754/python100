{
 "cells": [
  {
   "cell_type": "code",
   "execution_count": 38,
   "id": "3956066e-6180-4afd-95a7-a139d071f5fb",
   "metadata": {},
   "outputs": [
    {
     "name": "stdin",
     "output_type": "stream",
     "text": [
      "输入英语句子 hello world and practice makes perfect and hello world again\n"
     ]
    },
    {
     "name": "stdout",
     "output_type": "stream",
     "text": [
      "again and hello makes perfect practice world "
     ]
    }
   ],
   "source": [
    "Input = input('输入英语句子').split(' ')\n",
    "b = set(Input)\n",
    "b = list(b)\n",
    "b.sort()\n",
    "for i in range(len(b)):\n",
    "    print(b[i],end=' ')\n",
    "    '''\n",
    "word = sorted(list(set(input().split())))              \n",
    "                                                       \n",
    "print(\" \".join(word))\n",
    "\n",
    "    '''"
   ]
  },
  {
   "cell_type": "code",
   "execution_count": 40,
   "id": "f6fdba79-1f4c-4788-8b1b-4e884765d347",
   "metadata": {},
   "outputs": [
    {
     "name": "stdin",
     "output_type": "stream",
     "text": [
      "输入2进制，逗号分隔 0100,0011,1010,1001,0100,0011,1010,1001\n"
     ]
    },
    {
     "name": "stdout",
     "output_type": "stream",
     "text": [
      "1010,1010\n"
     ]
    }
   ],
   "source": [
    "Input = input('输入2进制，逗号分隔').split(',')\n",
    "Output = []\n",
    "for i in range(len(Input)):\n",
    "    if int(Input[i],2)%5==0:\n",
    "        Output.append(str(Input[i]))\n",
    "print(','.join(Output))"
   ]
  },
  {
   "cell_type": "code",
   "execution_count": 41,
   "id": "bfb2afea-dca0-4398-a5bc-754e5835598c",
   "metadata": {},
   "outputs": [
    {
     "name": "stdout",
     "output_type": "stream",
     "text": [
      "2000,2002,2004,2006,2008,2020,2022,2024,2026,2028,2040,2042,2044,2046,2048,2060,2062,2064,2066,2068,2080,2082,2084,2086,2088,2200,2202,2204,2206,2208,2220,2222,2224,2226,2228,2240,2242,2244,2246,2248,2260,2262,2264,2266,2268,2280,2282,2284,2286,2288,2400,2402,2404,2406,2408,2420,2422,2424,2426,2428,2440,2442,2444,2446,2448,2460,2462,2464,2466,2468,2480,2482,2484,2486,2488,2600,2602,2604,2606,2608,2620,2622,2624,2626,2628,2640,2642,2644,2646,2648,2660,2662,2664,2666,2668,2680,2682,2684,2686,2688,2800,2802,2804,2806,2808,2820,2822,2824,2826,2828,2840,2842,2844,2846,2848,2860,2862,2864,2866,2868,2880,2882,2884,2886,2888\n"
     ]
    }
   ],
   "source": [
    "tmp = []\n",
    "for i in range(1000,3001):\n",
    "    a = i%10\n",
    "    b = int(i/10)%10\n",
    "    c = int(i/100)%10\n",
    "    d = int(i/1000)\n",
    "    if (a%2==0) and (b%2==0) and (c%2==0) and (d%2==0):\n",
    "        tmp.append(str(i))\n",
    "print(','.join(tmp))"
   ]
  },
  {
   "cell_type": "code",
   "execution_count": null,
   "id": "73b9a653-f1ed-44a8-aa51-3474d6514e2a",
   "metadata": {},
   "outputs": [],
   "source": [
    "#不会Input = input('输入句子数字')\n",
    "a = Input.count()"
   ]
  },
  {
   "cell_type": "code",
   "execution_count": null,
   "id": "c14844dd-a0d1-4186-88b1-e8f7a6c1b65b",
   "metadata": {},
   "outputs": [],
   "source": [
    "word = input()\n",
    "letter,digit = 0,0\n",
    "\n",
    "for i in word:\n",
    "    if ('a'<=i and i<='z') or ('A'<=i and i<='Z'):\n",
    "        letter+=1\n",
    "    if '0'<=i and i<='9':\n",
    "        digit+=1\n",
    "\n",
    "print(\"LETTERS {0}\\nDIGITS {1}\".format(letter,digit))\n"
   ]
  },
  {
   "cell_type": "code",
   "execution_count": 1,
   "id": "45c60418-28a1-46da-8cb2-c0bc175734c2",
   "metadata": {},
   "outputs": [
    {
     "name": "stdin",
     "output_type": "stream",
     "text": [
      " hello world! 123\n"
     ]
    },
    {
     "name": "stdout",
     "output_type": "stream",
     "text": [
      "LETTERS 10\n",
      "DIGITS 3\n"
     ]
    }
   ],
   "source": [
    "In = input()\n",
    "LETTERS,DIGITS = 0,0\n",
    "for i in In:\n",
    "    if 'a'<=i<='z' or 'A'<=i<='Z':\n",
    "        LETTERS+=1\n",
    "    if '0'<=i<='9':\n",
    "        DIGITS+=1\n",
    "print('LETTERS {0}\\nDIGITS {1}'.format(LETTERS,DIGITS))"
   ]
  }
 ],
 "metadata": {
  "kernelspec": {
   "display_name": "Python 3 (ipykernel)",
   "language": "python",
   "name": "python3"
  },
  "language_info": {
   "codemirror_mode": {
    "name": "ipython",
    "version": 3
   },
   "file_extension": ".py",
   "mimetype": "text/x-python",
   "name": "python",
   "nbconvert_exporter": "python",
   "pygments_lexer": "ipython3",
   "version": "3.7.9"
  }
 },
 "nbformat": 4,
 "nbformat_minor": 5
}

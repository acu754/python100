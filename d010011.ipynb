{
 "cells": [
  {
   "cell_type": "code",
   "execution_count": 3,
   "id": "d2945c48-c7a9-48ec-8a0d-3b170cbc5b13",
   "metadata": {},
   "outputs": [
    {
     "data": {
      "text/plain": [
       "{1: 1,\n",
       " 2: 4,\n",
       " 3: 9,\n",
       " 4: 16,\n",
       " 5: 25,\n",
       " 6: 36,\n",
       " 7: 49,\n",
       " 8: 64,\n",
       " 9: 81,\n",
       " 10: 100,\n",
       " 11: 121,\n",
       " 12: 144,\n",
       " 13: 169,\n",
       " 14: 196,\n",
       " 15: 225,\n",
       " 16: 256,\n",
       " 17: 289,\n",
       " 18: 324,\n",
       " 19: 361,\n",
       " 20: 400}"
      ]
     },
     "execution_count": 3,
     "metadata": {},
     "output_type": "execute_result"
    }
   ],
   "source": [
    "def pd():\n",
    "    a = dict()\n",
    "    for i in range(1,21):\n",
    "        a[i] = i**2\n",
    "    return a\n",
    "pd()"
   ]
  },
  {
   "cell_type": "code",
   "execution_count": 7,
   "id": "72094767-871b-4569-bec2-89ad8e5f3dcc",
   "metadata": {},
   "outputs": [
    {
     "name": "stdout",
     "output_type": "stream",
     "text": [
      "dict_keys([1, 2, 3, 4, 5, 6, 7, 8, 9, 10, 11, 12, 13, 14, 15, 16, 17, 18, 19, 20])\n"
     ]
    }
   ],
   "source": [
    "def pd():\n",
    "    a = dict()\n",
    "    for i in range(1,21):\n",
    "        a[i] = i**2\n",
    "    print(a.keys())\n",
    "pd()"
   ]
  },
  {
   "cell_type": "code",
   "execution_count": 8,
   "id": "81d798ee-c561-4c36-83a4-dbff36c1b735",
   "metadata": {},
   "outputs": [
    {
     "name": "stdout",
     "output_type": "stream",
     "text": [
      "[1, 4, 9, 16, 25, 36, 49, 64, 81, 100, 121, 144, 169, 196, 225, 256, 289, 324, 361, 400]\n"
     ]
    }
   ],
   "source": [
    "def pl():\n",
    "    a = list()\n",
    "    for i in range(1,21):\n",
    "        a.append(i**2)\n",
    "    print(a)\n",
    "pl()"
   ]
  },
  {
   "cell_type": "code",
   "execution_count": 12,
   "id": "f8d79d4b-8803-407f-bbf7-4f1643ae6422",
   "metadata": {},
   "outputs": [
    {
     "name": "stdout",
     "output_type": "stream",
     "text": [
      "[1, 4, 9, 16, 25]\n"
     ]
    }
   ],
   "source": [
    "def pl():\n",
    "    a = list()\n",
    "    for i in range(1,21):\n",
    "        a.append(i**2)\n",
    "    print(a[:5])\n",
    "pl()"
   ]
  },
  {
   "cell_type": "code",
   "execution_count": 13,
   "id": "4eef909c-aca9-482d-9946-de07a7bc970b",
   "metadata": {},
   "outputs": [
    {
     "name": "stdout",
     "output_type": "stream",
     "text": [
      "[256, 289, 324, 361, 400]\n"
     ]
    }
   ],
   "source": [
    "def pl():\n",
    "    a = list()\n",
    "    for i in range(1,21):\n",
    "        a.append(i**2)\n",
    "    print(a[-5:])\n",
    "pl()"
   ]
  },
  {
   "cell_type": "code",
   "execution_count": 14,
   "id": "34893b1d-622e-449c-ae2d-1dd90a1e1e90",
   "metadata": {},
   "outputs": [
    {
     "name": "stdout",
     "output_type": "stream",
     "text": [
      "[36, 49, 64, 81, 100, 121, 144, 169, 196, 225, 256, 289, 324, 361, 400]\n"
     ]
    }
   ],
   "source": [
    "def pl():\n",
    "    a = list()\n",
    "    for i in range(1,21):\n",
    "        a.append(i**2)\n",
    "    print(a[5:])\n",
    "pl()"
   ]
  },
  {
   "cell_type": "code",
   "execution_count": 17,
   "id": "14a08c79-105a-450d-8684-d5e0a7d490f7",
   "metadata": {},
   "outputs": [
    {
     "name": "stdout",
     "output_type": "stream",
     "text": [
      "(1, 4, 9, 16, 25, 36, 49, 64, 81, 100, 121, 144, 169, 196, 225, 256, 289, 324, 361, 400)\n"
     ]
    }
   ],
   "source": [
    "def pt():\n",
    "    a = tuple(i**2 for i in range(1,21))\n",
    "    print(a)\n",
    "pt()"
   ]
  },
  {
   "cell_type": "code",
   "execution_count": 32,
   "id": "e70f87b0-ebcf-4c71-94b2-c55553bf3b76",
   "metadata": {},
   "outputs": [
    {
     "name": "stdout",
     "output_type": "stream",
     "text": [
      "(1, 2, 3, 4, 5)\n",
      "(6, 7, 8, 9, 10)\n"
     ]
    }
   ],
   "source": [
    "tp = tuple(i for i in range(1,11))\n",
    "print('{}\\n{}'.format(tp[:int(len(tp)/2)],tp[int(len(tp)/2):]))"
   ]
  },
  {
   "cell_type": "code",
   "execution_count": 36,
   "id": "e1da492a-9314-466e-90fe-a213fe8e80a0",
   "metadata": {},
   "outputs": [
    {
     "data": {
      "text/plain": [
       "(2, 4, 6, 8, 10)"
      ]
     },
     "execution_count": 36,
     "metadata": {},
     "output_type": "execute_result"
    }
   ],
   "source": [
    "tup = tuple(i for i in range(1,11))\n",
    "tup2 = tuple(j for j in tup if j%2==0)\n",
    "tup2"
   ]
  },
  {
   "cell_type": "code",
   "execution_count": 40,
   "id": "788fe695-1f2f-4fc3-beea-3f395d49ca48",
   "metadata": {},
   "outputs": [
    {
     "name": "stdin",
     "output_type": "stream",
     "text": [
      "输入字符串 YES\n"
     ]
    },
    {
     "name": "stdout",
     "output_type": "stream",
     "text": [
      "Yes\n"
     ]
    }
   ],
   "source": [
    "def prin(a=input('输入字符串')):\n",
    "    if a=='yes' or a=='Yes' or a=='YES':\n",
    "        print('Yes')\n",
    "    else:\n",
    "        print('No')\n",
    "prin()"
   ]
  },
  {
   "cell_type": "code",
   "execution_count": 54,
   "id": "8ffd3552-3ecc-4fb4-92f8-54076be00a03",
   "metadata": {},
   "outputs": [
    {
     "name": "stdout",
     "output_type": "stream",
     "text": [
      "<map object at 0x000001982F36E088>\n",
      "[1, 4, 9, 16, 25, 36, 49, 64, 81, 100]\n"
     ]
    }
   ],
   "source": [
    "#不对劲\n",
    "sqr = lambda x:x*x\n",
    "lst = [i for i in range(1,11)]\n",
    "a=map(sqr,lst)\n",
    "print(a)\n",
    "'''这里不行'''\n",
    "print(list(a))"
   ]
  },
  {
   "cell_type": "code",
   "execution_count": 59,
   "id": "ddcec7c5-0d94-40a7-be34-9cbb5729ca3e",
   "metadata": {},
   "outputs": [
    {
     "name": "stdout",
     "output_type": "stream",
     "text": [
      "[4, 16, 36, 64, 100]\n"
     ]
    }
   ],
   "source": [
    "lst = [i for i in range(1,11)]\n",
    "a=map(lambda x:x**2,list(filter(lambda x:x%2==0,lst)))\n",
    "print(list(a))"
   ]
  },
  {
   "cell_type": "code",
   "execution_count": 60,
   "id": "b69b13ee-7883-4825-88a6-1161ca5880df",
   "metadata": {},
   "outputs": [
    {
     "name": "stdout",
     "output_type": "stream",
     "text": [
      "[2, 4, 6, 8, 10, 12, 14, 16, 18, 20]\n"
     ]
    }
   ],
   "source": [
    "lst = [i for i in range(1,21)]\n",
    "a=list(filter(lambda x:x%2==0,lst))\n",
    "print(a)"
   ]
  }
 ],
 "metadata": {
  "kernelspec": {
   "display_name": "Python 3 (ipykernel)",
   "language": "python",
   "name": "python3"
  },
  "language_info": {
   "codemirror_mode": {
    "name": "ipython",
    "version": 3
   },
   "file_extension": ".py",
   "mimetype": "text/x-python",
   "name": "python",
   "nbconvert_exporter": "python",
   "pygments_lexer": "ipython3",
   "version": "3.7.9"
  }
 },
 "nbformat": 4,
 "nbformat_minor": 5
}

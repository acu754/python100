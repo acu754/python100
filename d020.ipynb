{
 "cells": [
  {
   "cell_type": "code",
   "execution_count": 25,
   "id": "e32ca421-2e9d-4365-8fba-7806013071f8",
   "metadata": {},
   "outputs": [
    {
     "name": "stdout",
     "output_type": "stream",
     "text": [
      "[5, 77, 45]\n"
     ]
    }
   ],
   "source": [
    "lst = [5,6,77,45,22,12,24]\n",
    "fb = lst.copy()\n",
    "\n",
    "for i in range(len(lst)):\n",
    "    if lst[i]%2==0:\n",
    "        fb.remove(lst[i])\n",
    "print(fb)\n",
    "\n",
    "'''li = [5,6,77,45,22,12,24]\n",
    "lst = [i for i in li if i%2!=0]\n",
    "print(lst)'''"
   ]
  },
  {
   "cell_type": "code",
   "execution_count": 26,
   "id": "151697d2-e908-498a-b639-0f75fafa4706",
   "metadata": {},
   "outputs": [
    {
     "name": "stdout",
     "output_type": "stream",
     "text": [
      "[5, 77, 45]\n"
     ]
    }
   ],
   "source": [
    "def isEven(n):\n",
    "    return n%2!=0\n",
    "li = [5,6,77,45,22,12,24]\n",
    "lst = list(filter(isEven,li))\n",
    "print(lst)"
   ]
  },
  {
   "cell_type": "code",
   "execution_count": 27,
   "id": "5c9b6325-e72e-402b-a3c8-49d71fc1015b",
   "metadata": {},
   "outputs": [
    {
     "name": "stdout",
     "output_type": "stream",
     "text": [
      "[12, 24, 88, 120, 155]\n"
     ]
    }
   ],
   "source": [
    "def isd35(n):\n",
    "    return n%35!=0\n",
    "li = [12,24,35,70,88,120,155]\n",
    "lst = list(filter(isd35,li))\n",
    "print(lst)"
   ]
  },
  {
   "cell_type": "code",
   "execution_count": 38,
   "id": "6b298607-11cc-47ab-a0b5-cca56f977abb",
   "metadata": {},
   "outputs": [
    {
     "data": {
      "text/plain": [
       "[24, 70, 120]"
      ]
     },
     "execution_count": 38,
     "metadata": {},
     "output_type": "execute_result"
    }
   ],
   "source": [
    "lst = [12,24,35,70,88,120,155]\n",
    "li = lst.copy()\n",
    "for i in range(len(lst)):\n",
    "    if i%2==0:\n",
    "        li.remove(lst[i])\n",
    "li"
   ]
  },
  {
   "cell_type": "code",
   "execution_count": 39,
   "id": "d2f690cc-9bfb-4eee-aa57-fd38251a2315",
   "metadata": {},
   "outputs": [
    {
     "name": "stdout",
     "output_type": "stream",
     "text": [
      "[24, 70, 120]\n"
     ]
    }
   ],
   "source": [
    "li = [12,24,35,70,88,120,155]\n",
    "li = [x for (i,x) in enumerate(li) if i%2!=0]\n",
    "print(li)"
   ]
  },
  {
   "cell_type": "code",
   "execution_count": 41,
   "id": "19e9221f-2936-4909-9a01-e33153a5ddd8",
   "metadata": {},
   "outputs": [
    {
     "name": "stdout",
     "output_type": "stream",
     "text": [
      "[12, 24, 120, 155]\n"
     ]
    }
   ],
   "source": [
    "li = [12,24,35,70,88,120,155]\n",
    "li = [x for (i,x) in enumerate(li) if not 2<=i<=4]\n",
    "print(li)"
   ]
  },
  {
   "cell_type": "code",
   "execution_count": 44,
   "id": "94f53cbf-22a2-4965-a128-843f5f25824f",
   "metadata": {},
   "outputs": [
    {
     "name": "stdout",
     "output_type": "stream",
     "text": [
      "(3, 5, 8) [[[0. 0. 0. 0. 0. 0. 0. 0.]\n",
      "  [0. 0. 0. 0. 0. 0. 0. 0.]\n",
      "  [0. 0. 0. 0. 0. 0. 0. 0.]\n",
      "  [0. 0. 0. 0. 0. 0. 0. 0.]\n",
      "  [0. 0. 0. 0. 0. 0. 0. 0.]]\n",
      "\n",
      " [[0. 0. 0. 0. 0. 0. 0. 0.]\n",
      "  [0. 0. 0. 0. 0. 0. 0. 0.]\n",
      "  [0. 0. 0. 0. 0. 0. 0. 0.]\n",
      "  [0. 0. 0. 0. 0. 0. 0. 0.]\n",
      "  [0. 0. 0. 0. 0. 0. 0. 0.]]\n",
      "\n",
      " [[0. 0. 0. 0. 0. 0. 0. 0.]\n",
      "  [0. 0. 0. 0. 0. 0. 0. 0.]\n",
      "  [0. 0. 0. 0. 0. 0. 0. 0.]\n",
      "  [0. 0. 0. 0. 0. 0. 0. 0.]\n",
      "  [0. 0. 0. 0. 0. 0. 0. 0.]]]\n"
     ]
    }
   ],
   "source": [
    "import numpy as np\n",
    "a = np.zeros((3,5,8))\n",
    "print(a.shape,a)\n",
    "'''array = [[ [0 for col in range(8)] for col in range(5)] for row in range(3)]\n",
    "print array\n",
    "'''"
   ]
  }
 ],
 "metadata": {
  "kernelspec": {
   "display_name": "Python 3 (ipykernel)",
   "language": "python",
   "name": "python3"
  },
  "language_info": {
   "codemirror_mode": {
    "name": "ipython",
    "version": 3
   },
   "file_extension": ".py",
   "mimetype": "text/x-python",
   "name": "python",
   "nbconvert_exporter": "python",
   "pygments_lexer": "ipython3",
   "version": "3.7.9"
  }
 },
 "nbformat": 4,
 "nbformat_minor": 5
}

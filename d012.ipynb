{
 "cells": [
  {
   "cell_type": "code",
   "execution_count": 1,
   "id": "6b31e943-6c1b-472f-8739-cfddad2bb8ee",
   "metadata": {},
   "outputs": [
    {
     "name": "stdout",
     "output_type": "stream",
     "text": [
      "[1, 4, 9, 16, 25, 36, 49, 64, 81, 100, 121, 144, 169, 196, 225, 256, 289, 324, 361, 400]\n"
     ]
    }
   ],
   "source": [
    "lst = [i for i in range(1,21)]\n",
    "a = map(lambda x:x**2,lst)\n",
    "print(list(a))"
   ]
  },
  {
   "cell_type": "code",
   "execution_count": 2,
   "id": "531983b4-058c-4a79-8103-4977d15f3305",
   "metadata": {},
   "outputs": [
    {
     "name": "stdout",
     "output_type": "stream",
     "text": [
      "我是 中 国 人 ！\n",
      "我是 中 国 人 ！\n"
     ]
    }
   ],
   "source": [
    "#不熟\n",
    "class China():\n",
    "    def __init__(self):\n",
    "        self.Na = 0\n",
    "    def printNationality(self):\n",
    "        pass\n",
    "#答案\n",
    "'''class Chinese():\n",
    "    @ staticmethod\n",
    "    def printNationality():\n",
    "        print('我是 中 国 人 ！')\n",
    "chinese = Chinese()\n",
    "chinese.printNationality()\n",
    "Chinese.printNationality()'''"
   ]
  },
  {
   "cell_type": "code",
   "execution_count": 7,
   "id": "291dfc2c-0510-416f-828f-aba259228c5b",
   "metadata": {},
   "outputs": [
    {
     "ename": "TypeError",
     "evalue": "int() takes at most 2 arguments (3 given)",
     "output_type": "error",
     "traceback": [
      "\u001b[1;31m---------------------------------------------------------------------------\u001b[0m",
      "\u001b[1;31mTypeError\u001b[0m                                 Traceback (most recent call last)",
      "\u001b[1;32m~\\AppData\\Local\\Temp/ipykernel_7732/337171347.py\u001b[0m in \u001b[0;36m<module>\u001b[1;34m\u001b[0m\n\u001b[1;32m----> 1\u001b[1;33m \u001b[1;32mclass\u001b[0m \u001b[0mChinese\u001b[0m\u001b[1;33m(\u001b[0m\u001b[1;33m)\u001b[0m\u001b[1;33m:\u001b[0m\u001b[1;33m\u001b[0m\u001b[1;33m\u001b[0m\u001b[0m\n\u001b[0m\u001b[0;32m      2\u001b[0m     \u001b[0mParentClass\u001b[0m \u001b[1;33m=\u001b[0m \u001b[1;36m1\u001b[0m\u001b[1;33m\u001b[0m\u001b[1;33m\u001b[0m\u001b[0m\n\u001b[0;32m      3\u001b[0m     \u001b[1;32mclass\u001b[0m \u001b[0mSubclass\u001b[0m\u001b[1;33m(\u001b[0m\u001b[0mParentClass\u001b[0m\u001b[1;33m)\u001b[0m\u001b[1;33m:\u001b[0m\u001b[1;33m\u001b[0m\u001b[1;33m\u001b[0m\u001b[0m\n\u001b[0;32m      4\u001b[0m         \u001b[1;32mdef\u001b[0m \u001b[0m__init__\u001b[0m\u001b[1;33m(\u001b[0m\u001b[0mself\u001b[0m\u001b[1;33m,\u001b[0m\u001b[0mParentClass\u001b[0m\u001b[1;33m)\u001b[0m\u001b[1;33m:\u001b[0m\u001b[1;33m\u001b[0m\u001b[1;33m\u001b[0m\u001b[0m\n\u001b[0;32m      5\u001b[0m             \u001b[0mself\u001b[0m\u001b[1;33m.\u001b[0m\u001b[0mper\u001b[0m \u001b[1;33m=\u001b[0m \u001b[0mParentClass\u001b[0m\u001b[1;33m\u001b[0m\u001b[1;33m\u001b[0m\u001b[0m\n",
      "\u001b[1;32m~\\AppData\\Local\\Temp/ipykernel_7732/337171347.py\u001b[0m in \u001b[0;36mChinese\u001b[1;34m()\u001b[0m\n\u001b[0;32m      1\u001b[0m \u001b[1;32mclass\u001b[0m \u001b[0mChinese\u001b[0m\u001b[1;33m(\u001b[0m\u001b[1;33m)\u001b[0m\u001b[1;33m:\u001b[0m\u001b[1;33m\u001b[0m\u001b[1;33m\u001b[0m\u001b[0m\n\u001b[0;32m      2\u001b[0m     \u001b[0mParentClass\u001b[0m \u001b[1;33m=\u001b[0m \u001b[1;36m1\u001b[0m\u001b[1;33m\u001b[0m\u001b[1;33m\u001b[0m\u001b[0m\n\u001b[1;32m----> 3\u001b[1;33m     \u001b[1;32mclass\u001b[0m \u001b[0mSubclass\u001b[0m\u001b[1;33m(\u001b[0m\u001b[0mParentClass\u001b[0m\u001b[1;33m)\u001b[0m\u001b[1;33m:\u001b[0m\u001b[1;33m\u001b[0m\u001b[1;33m\u001b[0m\u001b[0m\n\u001b[0m\u001b[0;32m      4\u001b[0m         \u001b[1;32mdef\u001b[0m \u001b[0m__init__\u001b[0m\u001b[1;33m(\u001b[0m\u001b[0mself\u001b[0m\u001b[1;33m,\u001b[0m\u001b[0mParentClass\u001b[0m\u001b[1;33m)\u001b[0m\u001b[1;33m:\u001b[0m\u001b[1;33m\u001b[0m\u001b[1;33m\u001b[0m\u001b[0m\n\u001b[0;32m      5\u001b[0m             \u001b[0mself\u001b[0m\u001b[1;33m.\u001b[0m\u001b[0mper\u001b[0m \u001b[1;33m=\u001b[0m \u001b[0mParentClass\u001b[0m\u001b[1;33m\u001b[0m\u001b[1;33m\u001b[0m\u001b[0m\n",
      "\u001b[1;31mTypeError\u001b[0m: int() takes at most 2 arguments (3 given)"
     ]
    }
   ],
   "source": [
    "#不会\n",
    "class Chinese():\n",
    "    ParentClass = 1\n",
    "    class Subclass(ParentClass):\n",
    "        def __init__(self,ParentClass):\n",
    "            self.per = ParentClass\n",
    "            print(self.per)\n",
    "a = Chinese()\n",
    "'''答案\n",
    "class Chinese():\n",
    "    pass\n",
    "\n",
    "class Guangdonger(Chinese):\n",
    "    pass\n",
    "chinese = Chinese()\n",
    "guangdonger = Guangdonger()\n",
    "'''"
   ]
  }
 ],
 "metadata": {
  "kernelspec": {
   "display_name": "Python 3 (ipykernel)",
   "language": "python",
   "name": "python3"
  },
  "language_info": {
   "codemirror_mode": {
    "name": "ipython",
    "version": 3
   },
   "file_extension": ".py",
   "mimetype": "text/x-python",
   "name": "python",
   "nbconvert_exporter": "python",
   "pygments_lexer": "ipython3",
   "version": "3.7.9"
  }
 },
 "nbformat": 4,
 "nbformat_minor": 5
}
